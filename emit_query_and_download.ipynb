{
 "cells": [
  {
   "cell_type": "markdown",
   "metadata": {},
   "source": [
    "## Query EMIT API and download"
   ]
  },
  {
   "cell_type": "code",
   "execution_count": null,
   "metadata": {},
   "outputs": [],
   "source": [
    "import pystac_client\n",
    "import boto3\n",
    "import requests\n",
    "from pathlib import Path\n"
   ]
  },
  {
   "cell_type": "markdown",
   "metadata": {},
   "source": [
    "## AWS S3 set up \n",
    "\n",
    "**Direct download from source lp-prod-protected bucket only works in an cloud compute instance running in AWS us-west-2 (not tested)**"
   ]
  },
  {
   "cell_type": "code",
   "execution_count": null,
   "metadata": {},
   "outputs": [],
   "source": [
    "aws_session = False\n",
    "\n",
    "if aws_session:\n",
    "    # This requires you to have an entry in .netrc for the NASA Earthdata Login\n",
    "    s3credentials = requests.get('https://data.lpdaac.earthdatacloud.nasa.gov/s3credentials').json()\n",
    "\n",
    "    # AWS Credentials for Source\n",
    "\n",
    "    source_credentials = {\n",
    "        \"aws_access_key_id\": s3credentials['accessKeyId'],\n",
    "        \"aws_secret_access_key\": s3credentials['secretAccessKey'],\n",
    "        \"aws_session_token\": s3credentials['sessionToken'],\n",
    "        #\"region_name\": \"us-west-2\",  # Source bucket region\n",
    "    }\n",
    "\n",
    "    # Initialize S3 clients for source and destination\n",
    "    session = boto3.session.Session(**source_credentials)\n",
    "    source_s3 = session.client(\"s3\")\n",
    "\n",
    "    # Source and destination bucket details\n",
    "    source_bucket = \"lp-prod-protected\""
   ]
  },
  {
   "cell_type": "code",
   "execution_count": null,
   "metadata": {},
   "outputs": [],
   "source": [
    "upload_to_aws = False\n",
    "\n",
    "if upload_to_aws:\n",
    "    # AWS Credentials for destination\n",
    "\n",
    "    destination_credentials = {\n",
    "        \"aws_access_key_id\": \"\",\n",
    "        \"aws_secret_access_key\": \"\",\n",
    "        \"region_name\": \"ap-southeast-2\",  # Destination bucket region\n",
    "    }\n",
    "\n",
    "    # Initialize S3 clients for destination\n",
    "\n",
    "    destination_s3 = boto3.client(\"s3\", **destination_credentials)\n",
    "\n",
    "    # Destination bucket details\n",
    "    destination_bucket = \"frontiersi-hyperspectral\""
   ]
  },
  {
   "cell_type": "markdown",
   "metadata": {},
   "source": [
    "## Query for NZ data"
   ]
  },
  {
   "cell_type": "code",
   "execution_count": null,
   "metadata": {},
   "outputs": [],
   "source": [
    "# STAC collection \n",
    "# https://cmr.earthdata.nasa.gov/cloudstac/LPCLOUD/collections/EMITL2ARFL_001\n",
    "\n",
    "# LPCLOUD catalog\n",
    "catalog_url = 'https://cmr.earthdata.nasa.gov/cloudstac/LPCLOUD/'"
   ]
  },
  {
   "cell_type": "code",
   "execution_count": null,
   "metadata": {},
   "outputs": [],
   "source": [
    "# Define search parameters\n",
    "\n",
    "search_params = {\n",
    "    \"collections\": [\"EMITL2ARFL_001\"],  # Specify the collection\n",
    "    \"bbox\": (166., -48., 179., -34.),      # Define the bounding box (swLon,swLat,neLon,neLat)\n",
    "    #\"datetime\": \"2023-01-01T00:00:00Z/2023-12-31T23:59:59Z\",  # Date range\n",
    "    \"query\": {\n",
    "        \"eo:cloud_cover\": {\"lt\": 10}  # Query parameter: cloud cover less than 10%\n",
    "    }\n",
    "}"
   ]
  },
  {
   "cell_type": "code",
   "execution_count": null,
   "metadata": {},
   "outputs": [],
   "source": [
    "# Query STAC catalog\n",
    "\n",
    "catalog = pystac_client.Client.open(catalog_url )\n",
    "\n",
    "# Run the STAC query\n",
    "query = catalog.search(**search_params)\n",
    "\n",
    "# List items returned by the query\n",
    "items = list(query.items())"
   ]
  },
  {
   "cell_type": "code",
   "execution_count": null,
   "metadata": {},
   "outputs": [],
   "source": [
    "len(items)"
   ]
  },
  {
   "cell_type": "markdown",
   "metadata": {},
   "source": [
    "`data` assets are located in private bucket \n",
    "\n",
    "`browse` and `metadata` are in public locations"
   ]
  },
  {
   "cell_type": "code",
   "execution_count": null,
   "metadata": {},
   "outputs": [],
   "source": [
    "# E.g.\n",
    "\n",
    "items[0].assets"
   ]
  },
  {
   "cell_type": "markdown",
   "metadata": {},
   "source": [
    "### Download data"
   ]
  },
  {
   "cell_type": "code",
   "execution_count": null,
   "metadata": {},
   "outputs": [],
   "source": [
    "def download_emit(url, local_filename):\n",
    "    local_file = Path(local_filename)\n",
    "    # Get the directory path\n",
    "    local_path = local_file.parent\n",
    "    # Create the directory and intermediate directories if needed\n",
    "    local_path.mkdir(parents=True, exist_ok=True)\n",
    "    \n",
    "    try:\n",
    "        # Perform the GET request (requests will use .netrc for credentials)\n",
    "        response = requests.get(url)\n",
    "\n",
    "        # Check if the request was successful\n",
    "        if response.status_code == 200:\n",
    "            # Save the file locally\n",
    "            with open(local_file, \"wb\") as file:\n",
    "                file.write(response.content)\n",
    "            print(f\"File downloaded successfully: {local_file}\")\n",
    "        else:\n",
    "            print(f\"Failed to download file. Status code: {response.status_code}\")\n",
    "            print(f\"Response text: {response.text}\")\n",
    "\n",
    "    except Exception as e:\n",
    "        print(f\"An error occurred: {e}\")\n"
   ]
  },
  {
   "cell_type": "code",
   "execution_count": null,
   "metadata": {},
   "outputs": [],
   "source": [
    "# Download data\n",
    "\n",
    "for item in items:\n",
    "    for key, asset in item.assets.items():\n",
    "        if asset.roles==['data']:\n",
    "            local_file = asset.href.replace('https://data.lpdaac.earthdatacloud.nasa.gov/lp-prod-protected/', 'data/nz/')\n",
    "            download_emit(asset.href, local_file)\n",
    "        if asset.roles==['browse']:\n",
    "            local_file = asset.href.replace('https://data.lpdaac.earthdatacloud.nasa.gov/lp-prod-public/', 'data/nz/')\n",
    "            download_emit(asset.href, local_file)\n",
    "    "
   ]
  },
  {
   "cell_type": "markdown",
   "metadata": {},
   "source": [
    "### Direct Access (in progress)\n",
    "\n",
    "Refer to Alex L's scripts"
   ]
  },
  {
   "cell_type": "code",
   "execution_count": null,
   "metadata": {},
   "outputs": [],
   "source": [
    "def load_emit_granule(granule: str, token: str) -> xr.Dataset:\n",
    "    \"\"\"\n",
    "    Load an EMIT granule from the NASA LPDAAC S3 bucket.\n",
    "    \"\"\"\n",
    "\n",
    "    http_url = asset.href\n",
    "    fs = HTTPFileSystem(headers={\"Authorization\": f\"bearer {token}\"})\n",
    "\n",
    "    return emit_xarray(fs.open(http_url))"
   ]
  }
 ],
 "metadata": {
  "kernelspec": {
   "display_name": "emit",
   "language": "python",
   "name": "python3"
  },
  "language_info": {
   "codemirror_mode": {
    "name": "ipython",
    "version": 3
   },
   "file_extension": ".py",
   "mimetype": "text/x-python",
   "name": "python",
   "nbconvert_exporter": "python",
   "pygments_lexer": "ipython3",
   "version": "3.9.19"
  }
 },
 "nbformat": 4,
 "nbformat_minor": 2
}
